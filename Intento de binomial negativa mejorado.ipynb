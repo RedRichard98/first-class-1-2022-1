{
 "cells": [
  {
   "cell_type": "code",
   "execution_count": 2,
   "metadata": {},
   "outputs": [],
   "source": [
    "from numpy import random\n",
    "import numpy as np\n",
    "import seaborn as sns"
   ]
  },
  {
   "cell_type": "code",
   "execution_count": 15,
   "metadata": {},
   "outputs": [],
   "source": [
    "data_binomial = random.negative_binomial(3, .4, 10)"
   ]
  },
  {
   "cell_type": "code",
   "execution_count": 16,
   "metadata": {},
   "outputs": [
    {
     "data": {
      "text/plain": [
       "10"
      ]
     },
     "execution_count": 16,
     "metadata": {},
     "output_type": "execute_result"
    }
   ],
   "source": [
    "len(data_binomial)"
   ]
  },
  {
   "cell_type": "code",
   "execution_count": 17,
   "metadata": {},
   "outputs": [
    {
     "data": {
      "image/png": "[encoded data removed]",
      "text/plain": [
       "<Figure size 432x288 with 1 Axes>"
      ]
     },
     "metadata": {
      "needs_background": "light"
     },
     "output_type": "display_data"
    }
   ],
   "source": [
    "ax = sns.distplot(data_binomial,\n",
    "                  bins=100,\n",
    "                  kde=True,\n",
    "                  color='skyblue')\n",
    "#ax.set(xlabel='Uniform Distribution ', ylabel='Frequency')"
   ]
  },
  {
   "cell_type": "code",
   "execution_count": 19,
   "metadata": {},
   "outputs": [
    {
     "name": "stdout",
     "output_type": "stream",
     "text": [
      "[1 7 6 3 4 9 1 3 2 8]\n"
     ]
    }
   ],
   "source": [
    "print(data_binomial)"
   ]
  },
  {
   "cell_type": "code",
   "execution_count": 21,
   "metadata": {},
   "outputs": [
    {
     "name": "stdout",
     "output_type": "stream",
     "text": [
      "1 wells drilled, probability of one success = 0.06312\n",
      "2 wells drilled, probability of one success = 0.17888\n",
      "3 wells drilled, probability of one success = 0.31739\n",
      "4 wells drilled, probability of one success = 0.45644\n",
      "5 wells drilled, probability of one success = 0.58119\n",
      "6 wells drilled, probability of one success = 0.68485\n",
      "7 wells drilled, probability of one success = 0.76871\n",
      "8 wells drilled, probability of one success = 0.83424\n",
      "9 wells drilled, probability of one success = 0.88201\n",
      "10 wells drilled, probability of one success = 0.9166\n"
     ]
    }
   ],
   "source": [
    "s = np.random.negative_binomial(3, 0.4, 100000)\n",
    "\n",
    "for i in range(1, 11): \n",
    "\n",
    "   probability = sum(s<i) / 100000.\n",
    "\n",
    "   print(i, \"wells drilled, probability of one success =\", probability)"
   ]
  },
  {
   "cell_type": "code",
   "execution_count": null,
   "metadata": {},
   "outputs": [],
   "source": []
  }
 ],
 "metadata": {
  "kernelspec": {
   "display_name": "Python 3",
   "language": "python",
   "name": "python3"
  },
  "language_info": {
   "codemirror_mode": {
    "name": "ipython",
    "version": 3
   },
   "file_extension": ".py",
   "mimetype": "text/x-python",
   "name": "python",
   "nbconvert_exporter": "python",
   "pygments_lexer": "ipython3",
   "version": "3.7.3"
  }
 },
 "nbformat": 4,
 "nbformat_minor": 2
}
